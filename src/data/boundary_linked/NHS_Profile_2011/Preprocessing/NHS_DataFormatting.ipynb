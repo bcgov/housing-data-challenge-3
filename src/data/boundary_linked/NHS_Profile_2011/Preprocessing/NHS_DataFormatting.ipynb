{
 "cells": [
  {
   "cell_type": "code",
   "execution_count": 1,
   "metadata": {
    "collapsed": true
   },
   "outputs": [],
   "source": [
    "# Clears workspace\n",
    "%reset -f\n",
    "\n",
    "# import packages\n",
    "import pandas as pd\n",
    "import numpy as np\n",
    "import json\n",
    "from pprint import pprint\n",
    "import csv"
   ]
  },
  {
   "cell_type": "code",
   "execution_count": 2,
   "metadata": {
    "collapsed": false
   },
   "outputs": [
    {
     "data": {
      "text/html": [
       "<div>\n",
       "<table border=\"1\" class=\"dataframe\">\n",
       "  <thead>\n",
       "    <tr style=\"text-align: right;\">\n",
       "      <th></th>\n",
       "      <th>Geo_Code</th>\n",
       "      <th>Prov_Name</th>\n",
       "      <th>CD_Name</th>\n",
       "      <th>CSD_Name</th>\n",
       "      <th>CSD_type</th>\n",
       "      <th>GNR</th>\n",
       "      <th>Topic</th>\n",
       "      <th>Characteristic</th>\n",
       "      <th>Note</th>\n",
       "      <th>Total</th>\n",
       "      <th>Male</th>\n",
       "      <th>Female</th>\n",
       "    </tr>\n",
       "  </thead>\n",
       "  <tbody>\n",
       "    <tr>\n",
       "      <th>0</th>\n",
       "      <td>5901003</td>\n",
       "      <td>British Columbia</td>\n",
       "      <td>East Kootenay</td>\n",
       "      <td>Elkford</td>\n",
       "      <td>District municipality</td>\n",
       "      <td>49.0</td>\n",
       "      <td>Citizenship</td>\n",
       "      <td>Total population in private households by citi...</td>\n",
       "      <td>1.0</td>\n",
       "      <td>2520</td>\n",
       "      <td>1325</td>\n",
       "      <td>1195</td>\n",
       "    </tr>\n",
       "    <tr>\n",
       "      <th>1</th>\n",
       "      <td>5901003</td>\n",
       "      <td>British Columbia</td>\n",
       "      <td>East Kootenay</td>\n",
       "      <td>Elkford</td>\n",
       "      <td>District municipality</td>\n",
       "      <td>49.0</td>\n",
       "      <td>Citizenship</td>\n",
       "      <td>Canadian citizens</td>\n",
       "      <td>NaN</td>\n",
       "      <td>2400</td>\n",
       "      <td>1280</td>\n",
       "      <td>1120</td>\n",
       "    </tr>\n",
       "    <tr>\n",
       "      <th>2</th>\n",
       "      <td>5901003</td>\n",
       "      <td>British Columbia</td>\n",
       "      <td>East Kootenay</td>\n",
       "      <td>Elkford</td>\n",
       "      <td>District municipality</td>\n",
       "      <td>49.0</td>\n",
       "      <td>Citizenship</td>\n",
       "      <td>Canadian citizens aged under 18</td>\n",
       "      <td>NaN</td>\n",
       "      <td>570</td>\n",
       "      <td>275</td>\n",
       "      <td>295</td>\n",
       "    </tr>\n",
       "    <tr>\n",
       "      <th>3</th>\n",
       "      <td>5901003</td>\n",
       "      <td>British Columbia</td>\n",
       "      <td>East Kootenay</td>\n",
       "      <td>Elkford</td>\n",
       "      <td>District municipality</td>\n",
       "      <td>49.0</td>\n",
       "      <td>Citizenship</td>\n",
       "      <td>Canadian citizens aged 18 and over</td>\n",
       "      <td>NaN</td>\n",
       "      <td>1825</td>\n",
       "      <td>1000</td>\n",
       "      <td>825</td>\n",
       "    </tr>\n",
       "    <tr>\n",
       "      <th>4</th>\n",
       "      <td>5901003</td>\n",
       "      <td>British Columbia</td>\n",
       "      <td>East Kootenay</td>\n",
       "      <td>Elkford</td>\n",
       "      <td>District municipality</td>\n",
       "      <td>49.0</td>\n",
       "      <td>Citizenship</td>\n",
       "      <td>Not Canadian citizens</td>\n",
       "      <td>2.0</td>\n",
       "      <td>125</td>\n",
       "      <td>45</td>\n",
       "      <td>75</td>\n",
       "    </tr>\n",
       "  </tbody>\n",
       "</table>\n",
       "</div>"
      ],
      "text/plain": [
       "   Geo_Code         Prov_Name        CD_Name CSD_Name               CSD_type  \\\n",
       "0   5901003  British Columbia  East Kootenay  Elkford  District municipality   \n",
       "1   5901003  British Columbia  East Kootenay  Elkford  District municipality   \n",
       "2   5901003  British Columbia  East Kootenay  Elkford  District municipality   \n",
       "3   5901003  British Columbia  East Kootenay  Elkford  District municipality   \n",
       "4   5901003  British Columbia  East Kootenay  Elkford  District municipality   \n",
       "\n",
       "    GNR        Topic                                     Characteristic  Note  \\\n",
       "0  49.0  Citizenship  Total population in private households by citi...   1.0   \n",
       "1  49.0  Citizenship                                  Canadian citizens   NaN   \n",
       "2  49.0  Citizenship                    Canadian citizens aged under 18   NaN   \n",
       "3  49.0  Citizenship                 Canadian citizens aged 18 and over   NaN   \n",
       "4  49.0  Citizenship                              Not Canadian citizens   2.0   \n",
       "\n",
       "  Total  Male Female  \n",
       "0  2520  1325   1195  \n",
       "1  2400  1280   1120  \n",
       "2   570   275    295  \n",
       "3  1825  1000    825  \n",
       "4   125    45     75  "
      ]
     },
     "execution_count": 2,
     "metadata": {},
     "output_type": "execute_result"
    }
   ],
   "source": [
    "# set maximum number of rows and columns displayed\n",
    "pd.set_option('display.max_columns', 12)\n",
    "pd.set_option('display.max_rows', 5)\n",
    "\n",
    "# Specifies file to load into dataframe;primary pandas data structure   \n",
    "df = pd.read_csv('Complete_Municipalities.csv')\n",
    "df.head()"
   ]
  },
  {
   "cell_type": "code",
   "execution_count": null,
   "metadata": {
    "collapsed": false
   },
   "outputs": [],
   "source": [
    "def sortbytopic(df, topics):\n",
    "    '''Group dataframe by array of topics and return\n",
    "    \n",
    "    df - raw dataframe\n",
    "    topics - list of topic names\n",
    "    '''\n",
    "    \n",
    "    df_temp = []\n",
    "    \n",
    "    for i in range(len(topics)):\n",
    "        df_temp.append(df.loc[df['Topic']==topics[i]])\n",
    "    \n",
    "    return pd.concat(df_temp).reset_index(drop=True)\n",
    "\n",
    "topics = ['Mobility']\n",
    "x = sortbytopic(df,topics)\n",
    "pd.set_option('display.max_rows', 5)\n",
    "x"
   ]
  },
  {
   "cell_type": "code",
   "execution_count": null,
   "metadata": {
    "collapsed": false
   },
   "outputs": [],
   "source": [
    "df_pivot = pd.pivot_table(x, values='Total', index=['Geo_Code', 'Prov_Name', 'CD_Name', 'CSD_Name'], columns='Characteristic', aggfunc='first')\n",
    "df_pivot"
   ]
  },
  {
   "cell_type": "code",
   "execution_count": null,
   "metadata": {
    "collapsed": true
   },
   "outputs": [],
   "source": [
    "df_pivot.to_csv('Mobility_Formatted_Municipalities.csv')"
   ]
  },
  {
   "cell_type": "code",
   "execution_count": null,
   "metadata": {
    "collapsed": false
   },
   "outputs": [],
   "source": [
    "# listofrows = []\n",
    "for i in x:\n",
    "    if x['Characteristic'][i][0] == ' ':\n",
    "        print(x['Characteristic'][i])\n",
    "    else:\n",
    "        print ('failed')\n",
    "#         listofrows.append(x['Characteristic'][i])"
   ]
  },
  {
   "cell_type": "code",
   "execution_count": null,
   "metadata": {
    "collapsed": false
   },
   "outputs": [],
   "source": [
    "with open('mobility_char_list.csv', 'r') as f:\n",
    "    reader = csv.reader(f)\n",
    "    characteristics = list(reader)\n",
    "\n",
    "characteristics\n",
    "# characteristics[0][0]\n",
    "# sortbychar(x,characteristics)"
   ]
  },
  {
   "cell_type": "code",
   "execution_count": null,
   "metadata": {
    "collapsed": false
   },
   "outputs": [],
   "source": [
    "def sortbychar(df,characteristics):\n",
    "    df_list = []\n",
    "    \n",
    "    for item in characteristics:\n",
    "        df_temp = df.loc[df['Characteristic'] == item[0]]\n",
    "        df_temp = df_temp.drop(['Prov_Name', 'GNR','Topic','Characteristic','Note','Male','Female'], axis=1)\n",
    "        df_temp = df_temp.rename(columns={'Total' : item[0]})\n",
    "        \n",
    "        df_list.append(df_temp.reset_index(drop=True))\n",
    "#         print(len(df_temp),item[0])\n",
    "\n",
    "    return df_list\n",
    "\n",
    "# characteristic = ['  Median income ($)']\n",
    "y = sortbychar(x,characteristics)\n",
    "\n",
    "# y[0]\n",
    "y[0]"
   ]
  },
  {
   "cell_type": "code",
   "execution_count": 9,
   "metadata": {
    "collapsed": false
   },
   "outputs": [],
   "source": [
    "df.head()\n",
    "df_temp = df.loc[df['Characteristic'] == '  Median after-tax household income ($)']\n",
    "df_temp.to_csv('afterTaxHouseholdIncome.csv', index=False);"
   ]
  },
  {
   "cell_type": "raw",
   "metadata": {},
   "source": [
    "def parsedata(df,topics,characteristic):\n",
    "    df_temp = sortbytopic(df, topics)\n",
    "    df_temp = sortbychar(df_temp, characteristic)\n",
    "    \n",
    "    return df_temp\n",
    "\n",
    "topic = ['Shelter costs','Income of individuals in 2010','Income of households in 2010']\n",
    "characteristic = '  Median income ($)'"
   ]
  }
 ],
 "metadata": {
  "kernelspec": {
   "display_name": "Python 3",
   "language": "python",
   "name": "python3"
  },
  "language_info": {
   "codemirror_mode": {
    "name": "ipython",
    "version": 3
   },
   "file_extension": ".py",
   "mimetype": "text/x-python",
   "name": "python",
   "nbconvert_exporter": "python",
   "pygments_lexer": "ipython3",
   "version": "3.5.1"
  }
 },
 "nbformat": 4,
 "nbformat_minor": 0
}
